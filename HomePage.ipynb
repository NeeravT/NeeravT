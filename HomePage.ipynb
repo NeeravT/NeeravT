{
  "nbformat": 4,
  "nbformat_minor": 0,
  "metadata": {
    "colab": {
      "provenance": [],
      "authorship_tag": "ABX9TyNTgg1aJ4PA5ENEC/v/fbO3",
      "include_colab_link": true
    },
    "kernelspec": {
      "name": "python3",
      "display_name": "Python 3"
    },
    "language_info": {
      "name": "python"
    }
  },
  "cells": [
    {
      "cell_type": "markdown",
      "metadata": {
        "id": "view-in-github",
        "colab_type": "text"
      },
      "source": [
        "<a href=\"https://colab.research.google.com/github/NeeravT/NeeravT/blob/main/HomePage.ipynb\" target=\"_parent\"><img src=\"https://colab.research.google.com/assets/colab-badge.svg\" alt=\"Open In Colab\"/></a>"
      ]
    },
    {
      "cell_type": "code",
      "execution_count": null,
      "metadata": {
        "id": "gjsrDLPaAIe6"
      },
      "outputs": [],
      "source": [
        "# This is a computer program that I wrote on my own, based on the basics on the Python programming language,\n",
        "# that I am learning by the various online classes, that I am taking, currently.\n",
        "# One of the classes inspired me to write my own login/password program, which you see below.\n",
        "\n",
        "# I will be updating this, such that the new password, the confirmation password,\n",
        "# and the password to log in, will all be encrypted, such that no one can see the password that you are entering.\n",
        "\n",
        "\n",
        "Home = True\n",
        "while Home:\n",
        "    welcome = input(\"Hello. Would you like to login or register? Please enter L or R. \")\n",
        "    if welcome == \"R\":\n",
        "          new_name = input(\"Welcome. Please enter your new user name: \")\n",
        "          new_password = input(\"Please enter a new password. Passwords can have letters, numbers and special characters. \")\n",
        "          confirm_password = input(\"Please enter the new password again, to confirm the password entered: \")\n",
        "          print(\" \")\n",
        "          print(\" \")\n",
        "          while confirm_password != new_password:\n",
        "              new_password = input(\"The passwords do not match. Please enter a new password: \")\n",
        "              confirm_password = input(\"Please enter the new password again, to confirm: \")\n",
        "              continue\n",
        "              print(\" \")\n",
        "              print(\" \")\n",
        "          print(\"You are all set. Returning you to the home page.\")\n",
        "          log_in_name = new_name\n",
        "          log_in_password = new_password\n",
        "          welcome != \"R\"\n",
        "          if welcome != \"R\":\n",
        "              Home = True\n",
        "\n",
        "\n",
        "    elif welcome == \"L\":\n",
        "        L = True\n",
        "        while L:\n",
        "            attempts = 3\n",
        "            print(\" \")\n",
        "            print(\" \")\n",
        "            print(\"Welcome to the login page.\")\n",
        "            enter_name = input(\"Please enter your user name: \")\n",
        "            enter_password = input(\"Please enter your password: \")\n",
        "            print(\" \")\n",
        "            print(\" \")\n",
        "            while enter_name != log_in_name or enter_password != log_in_password:\n",
        "                attempts = attempts - 1\n",
        "                if attempts == 0:\n",
        "                    print(\"You are now locked out. Please contact the system admnistrator to reset your password.\")\n",
        "                    print(\" \")\n",
        "                    print(\" \")\n",
        "                    while True:\n",
        "                        enter_name = input(\"Please enter your user name: \")\n",
        "                        enter_password = input(\"Please enter your password: \")\n",
        "                    print(\" \")\n",
        "                    print(\" \")\n",
        "                    if enter_name != log_in_name or enter_password != log_in_password:\n",
        "                        attempts = 0\n",
        "                        print(\"You are locked out. Please contact the system administrator to reset your password.\")\n",
        "                        continue\n",
        "                        print(\" \")\n",
        "                        print(\" \")\n",
        "                else:\n",
        "                    print(\"The user name and/or password is incorrect. You have\", attempts, \"attempts. Please try again.\")\n",
        "                    print(\" \")\n",
        "                    print(\" \")\n",
        "                    enter_name = input(\"Please enter your user name: \")\n",
        "                    enter_password = input(\"Please enter your password: \")\n",
        "                    print(\" \")\n",
        "                    print(\" \")\n",
        "                    if enter_name == log_in_name and enter_password == log_in_password:\n",
        "                        attempts = 0\n",
        "                        break\n",
        "                        print(\" \")\n",
        "                        print(\" \")\n",
        "            print(\"You have are now being logged in. Thank you for using the secure log in system.\")\n",
        "            break\n",
        "        break\n",
        "\n",
        "    else:\n",
        "      print(\"That is an invalid entry. Please try again.\")\n",
        "      Home = True"
      ]
    }
  ]
}