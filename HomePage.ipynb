{
  "nbformat": 4,
  "nbformat_minor": 0,
  "metadata": {
    "colab": {
      "provenance": [],
      "authorship_tag": "ABX9TyP9hxzuVlgfmCYsGMf2e47i",
      "include_colab_link": true
    },
    "kernelspec": {
      "name": "python3",
      "display_name": "Python 3"
    },
    "language_info": {
      "name": "python"
    }
  },
  "cells": [
    {
      "cell_type": "markdown",
      "metadata": {
        "id": "view-in-github",
        "colab_type": "text"
      },
      "source": [
        "<a href=\"https://colab.research.google.com/github/NeeravT/NeeravT/blob/main/HomePage.ipynb\" target=\"_parent\"><img src=\"https://colab.research.google.com/assets/colab-badge.svg\" alt=\"Open In Colab\"/></a>"
      ]
    },
    {
      "cell_type": "code",
      "execution_count": 8,
      "metadata": {
        "id": "gjsrDLPaAIe6",
        "colab": {
          "base_uri": "https://localhost:8080/",
          "height": 860
        },
        "outputId": "c5ce0a4b-7a16-4b07-b9e6-d70a5d5eaea7"
      },
      "outputs": [
        {
          "name": "stdout",
          "output_type": "stream",
          "text": [
            "Hello. Would you like to login, register or exit? Please enter L, R or E. L\n",
            " \n",
            " \n",
            "Welcome to the login page.\n",
            "Please enter your user name: BigNeerav\n",
            "Please enter your password: hello\n",
            " \n",
            " \n",
            "The user name and/or password is incorrect. You have 2 attempts. Please try again.\n",
            " \n",
            " \n",
            "Please enter your user name: BigNeerav'\n",
            "Please enter your password: hwkllo\n",
            " \n",
            " \n",
            "The user name and/or password is incorrect. You have 1 attempts. Please try again.\n",
            " \n",
            " \n",
            "Please enter your user name: BigNeerav\n",
            "Please enter your password: hola!\n",
            " \n",
            " \n",
            "You are now locked out. Please contact the system admnistrator to reset your password.\n",
            " \n",
            " \n",
            "Please enter your user name: BigNeerav\n",
            "Please enter your password: Namaste!\n",
            "Please enter your user name: BigNeerav\n",
            "Please enter your password: Namaste!\n"
          ]
        },
        {
          "output_type": "error",
          "ename": "KeyboardInterrupt",
          "evalue": "Interrupted by user",
          "traceback": [
            "\u001b[0;31m---------------------------------------------------------------------------\u001b[0m",
            "\u001b[0;31mKeyboardInterrupt\u001b[0m                         Traceback (most recent call last)",
            "\u001b[0;32m/tmp/ipython-input-1163386831.py\u001b[0m in \u001b[0;36m<cell line: 0>\u001b[0;34m()\u001b[0m\n\u001b[1;32m     48\u001b[0m                     \u001b[0mprint\u001b[0m\u001b[0;34m(\u001b[0m\u001b[0;34m\" \"\u001b[0m\u001b[0;34m)\u001b[0m\u001b[0;34m\u001b[0m\u001b[0;34m\u001b[0m\u001b[0m\n\u001b[1;32m     49\u001b[0m                     \u001b[0;32mwhile\u001b[0m \u001b[0;32mTrue\u001b[0m\u001b[0;34m:\u001b[0m\u001b[0;34m\u001b[0m\u001b[0;34m\u001b[0m\u001b[0m\n\u001b[0;32m---> 50\u001b[0;31m                         \u001b[0menter_name\u001b[0m \u001b[0;34m=\u001b[0m \u001b[0minput\u001b[0m\u001b[0;34m(\u001b[0m\u001b[0;34m\"Please enter your user name: \"\u001b[0m\u001b[0;34m)\u001b[0m\u001b[0;34m\u001b[0m\u001b[0;34m\u001b[0m\u001b[0m\n\u001b[0m\u001b[1;32m     51\u001b[0m                         \u001b[0menter_password\u001b[0m \u001b[0;34m=\u001b[0m \u001b[0minput\u001b[0m\u001b[0;34m(\u001b[0m\u001b[0;34m\"Please enter your password: \"\u001b[0m\u001b[0;34m)\u001b[0m\u001b[0;34m\u001b[0m\u001b[0;34m\u001b[0m\u001b[0m\n\u001b[1;32m     52\u001b[0m                     \u001b[0mprint\u001b[0m\u001b[0;34m(\u001b[0m\u001b[0;34m\" \"\u001b[0m\u001b[0;34m)\u001b[0m\u001b[0;34m\u001b[0m\u001b[0;34m\u001b[0m\u001b[0m\n",
            "\u001b[0;32m/usr/local/lib/python3.12/dist-packages/ipykernel/kernelbase.py\u001b[0m in \u001b[0;36mraw_input\u001b[0;34m(self, prompt)\u001b[0m\n\u001b[1;32m   1175\u001b[0m                 \u001b[0;34m\"raw_input was called, but this frontend does not support input requests.\"\u001b[0m\u001b[0;34m\u001b[0m\u001b[0;34m\u001b[0m\u001b[0m\n\u001b[1;32m   1176\u001b[0m             )\n\u001b[0;32m-> 1177\u001b[0;31m         return self._input_request(\n\u001b[0m\u001b[1;32m   1178\u001b[0m             \u001b[0mstr\u001b[0m\u001b[0;34m(\u001b[0m\u001b[0mprompt\u001b[0m\u001b[0;34m)\u001b[0m\u001b[0;34m,\u001b[0m\u001b[0;34m\u001b[0m\u001b[0;34m\u001b[0m\u001b[0m\n\u001b[1;32m   1179\u001b[0m             \u001b[0mself\u001b[0m\u001b[0;34m.\u001b[0m\u001b[0m_parent_ident\u001b[0m\u001b[0;34m[\u001b[0m\u001b[0;34m\"shell\"\u001b[0m\u001b[0;34m]\u001b[0m\u001b[0;34m,\u001b[0m\u001b[0;34m\u001b[0m\u001b[0;34m\u001b[0m\u001b[0m\n",
            "\u001b[0;32m/usr/local/lib/python3.12/dist-packages/ipykernel/kernelbase.py\u001b[0m in \u001b[0;36m_input_request\u001b[0;34m(self, prompt, ident, parent, password)\u001b[0m\n\u001b[1;32m   1217\u001b[0m             \u001b[0;32mexcept\u001b[0m \u001b[0mKeyboardInterrupt\u001b[0m\u001b[0;34m:\u001b[0m\u001b[0;34m\u001b[0m\u001b[0;34m\u001b[0m\u001b[0m\n\u001b[1;32m   1218\u001b[0m                 \u001b[0;31m# re-raise KeyboardInterrupt, to truncate traceback\u001b[0m\u001b[0;34m\u001b[0m\u001b[0;34m\u001b[0m\u001b[0m\n\u001b[0;32m-> 1219\u001b[0;31m                 \u001b[0;32mraise\u001b[0m \u001b[0mKeyboardInterrupt\u001b[0m\u001b[0;34m(\u001b[0m\u001b[0;34m\"Interrupted by user\"\u001b[0m\u001b[0;34m)\u001b[0m \u001b[0;32mfrom\u001b[0m \u001b[0;32mNone\u001b[0m\u001b[0;34m\u001b[0m\u001b[0;34m\u001b[0m\u001b[0m\n\u001b[0m\u001b[1;32m   1220\u001b[0m             \u001b[0;32mexcept\u001b[0m \u001b[0mException\u001b[0m\u001b[0;34m:\u001b[0m\u001b[0;34m\u001b[0m\u001b[0;34m\u001b[0m\u001b[0m\n\u001b[1;32m   1221\u001b[0m                 \u001b[0mself\u001b[0m\u001b[0;34m.\u001b[0m\u001b[0mlog\u001b[0m\u001b[0;34m.\u001b[0m\u001b[0mwarning\u001b[0m\u001b[0;34m(\u001b[0m\u001b[0;34m\"Invalid Message:\"\u001b[0m\u001b[0;34m,\u001b[0m \u001b[0mexc_info\u001b[0m\u001b[0;34m=\u001b[0m\u001b[0;32mTrue\u001b[0m\u001b[0;34m)\u001b[0m\u001b[0;34m\u001b[0m\u001b[0;34m\u001b[0m\u001b[0m\n",
            "\u001b[0;31mKeyboardInterrupt\u001b[0m: Interrupted by user"
          ]
        }
      ],
      "source": [
        "# This is a computer program that I wrote on my own, based on the basics on the Python programming language,\n",
        "# that I am learning by the various online classes, that I am taking, currently.\n",
        "# One of the classes inspired me to write my own login/password program, which you see below.\n",
        "\n",
        "# I will be updating this, such that the new password, the confirmation password,\n",
        "# and the password to log in, will all be encrypted, such that no one can see the password that you are entering.\n",
        "\n",
        "\n",
        "Home = True\n",
        "while Home:\n",
        "    welcome = input(\"Hello. Would you like to login, register or exit? Please enter L, R or E. \")\n",
        "    if welcome == \"R\":\n",
        "          new_name = input(\"Welcome. Please enter your new user name: \")\n",
        "          new_password = input(\"Please enter a new password. Passwords can have letters, numbers and special characters. \")\n",
        "          confirm_password = input(\"Please enter the new password again, to confirm the password entered: \")\n",
        "          print(\" \")\n",
        "          print(\" \")\n",
        "          while confirm_password != new_password:\n",
        "              new_password = input(\"The passwords do not match. Please enter a new password: \")\n",
        "              confirm_password = input(\"Please enter the new password again, to confirm: \")\n",
        "              continue\n",
        "              print(\" \")\n",
        "              print(\" \")\n",
        "          print(\"You are all set. Returning you to the home page.\")\n",
        "          log_in_name = new_name\n",
        "          log_in_password = new_password\n",
        "          welcome != \"R\"\n",
        "          if welcome != \"R\":\n",
        "              Home = True\n",
        "\n",
        "\n",
        "    if welcome == \"L\":\n",
        "        L = True\n",
        "        while L:\n",
        "            attempts = 3\n",
        "            print(\" \")\n",
        "            print(\" \")\n",
        "            print(\"Welcome to the login page.\")\n",
        "            enter_name = input(\"Please enter your user name: \")\n",
        "            enter_password = input(\"Please enter your password: \")\n",
        "            print(\" \")\n",
        "            print(\" \")\n",
        "            while enter_name != log_in_name or enter_password != log_in_password:\n",
        "                attempts = attempts - 1\n",
        "                if attempts == 0:\n",
        "                    print(\"You are now locked out. Please contact the system admnistrator to reset your password.\")\n",
        "                    print(\" \")\n",
        "                    print(\" \")\n",
        "                    while True:\n",
        "                        enter_name = input(\"Please enter your user name: \")\n",
        "                        enter_password = input(\"Please enter your password: \")\n",
        "                    print(\" \")\n",
        "                    print(\" \")\n",
        "                    if enter_name != log_in_name or enter_password != log_in_password:\n",
        "                        attempts = 0\n",
        "                        print(\" \")\n",
        "                        print(\"You are locked out. Please contact the system administrator to reset your password.\")\n",
        "                        continue\n",
        "                        print(\" \")\n",
        "                        print(\" \")\n",
        "                        print(\"You are locked out. Please contact the system administrator to reset your password.\")\n",
        "                else:\n",
        "                    print(\"The user name and/or password is incorrect. You have\", attempts, \"attempts. Please try again.\")\n",
        "                    print(\" \")\n",
        "                    print(\" \")\n",
        "                    enter_name = input(\"Please enter your user name: \")\n",
        "                    enter_password = input(\"Please enter your password: \")\n",
        "                    print(\" \")\n",
        "                    print(\" \")\n",
        "                    if enter_name == log_in_name and enter_password == log_in_password:\n",
        "                        attempts = 0\n",
        "                        break\n",
        "                        print(\" \")\n",
        "                        print(\" \")\n",
        "            print(\"You have are now being logged in. Thank you for using the secure log in system.\")\n",
        "            break\n",
        "        break\n",
        "\n",
        "    if welcome == \"E\":\n",
        "        print(\" \")\n",
        "        print(\"Thank you for using the secure login system. Goodbye!\")\n",
        "        break\n",
        "    else:\n",
        "      print(\"That is an invalid entry. Please try again.\")\n",
        "      Home = True"
      ]
    }
  ]
}