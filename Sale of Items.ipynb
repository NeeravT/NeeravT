{
  "nbformat": 4,
  "nbformat_minor": 0,
  "metadata": {
    "colab": {
      "provenance": [],
      "authorship_tag": "ABX9TyMfeHH7hk4sc9Ll1C3G6kGG",
      "include_colab_link": true
    },
    "kernelspec": {
      "name": "python3",
      "display_name": "Python 3"
    },
    "language_info": {
      "name": "python"
    }
  },
  "cells": [
    {
      "cell_type": "markdown",
      "metadata": {
        "id": "view-in-github",
        "colab_type": "text"
      },
      "source": [
        "<a href=\"https://colab.research.google.com/github/NeeravT/NeeravT/blob/main/Sale%20of%20Items.ipynb\" target=\"_parent\"><img src=\"https://colab.research.google.com/assets/colab-badge.svg\" alt=\"Open In Colab\"/></a>"
      ]
    },
    {
      "cell_type": "code",
      "execution_count": 18,
      "metadata": {
        "colab": {
          "base_uri": "https://localhost:8080/"
        },
        "id": "rbnuDNU9TRbX",
        "outputId": "e74b5d75-b4b2-4bbb-b6d7-263322a9e974"
      },
      "outputs": [
        {
          "output_type": "stream",
          "name": "stdout",
          "text": [
            "Please enter the price per unit for the item: 9.99\n",
            "Please enter the quantity of the product: 5\n",
            "The total the customer owes is: 53.07\n",
            "Please enter the amount given by the customer: 60.00\n",
            "The amount of change you owe the customer is: 6.93\n"
          ]
        }
      ],
      "source": [
        "price = float(input(\"Please enter the price per unit for the item: \"))\n",
        "quantity = int(input(\"Please enter the quantity of the product: \"))\n",
        "\n",
        "\n",
        "sales_tax = 0.0625\n",
        "\n",
        "subtotal = price * quantity\n",
        "\n",
        "total = subtotal + (subtotal * sales_tax)\n",
        "\n",
        "print(\"The total the customer owes is:\", round(total, 2))\n",
        "\n",
        "payment = float(input(\"Please enter the amount given by the customer: \"))\n",
        "\n",
        "change = total - payment\n",
        "\n",
        "print(\"The amount of change you owe the customer is:\", -(round(change, 2)))\n",
        "\n",
        "\n",
        "\n"
      ]
    }
  ]
}