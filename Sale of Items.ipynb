{
  "nbformat": 4,
  "nbformat_minor": 0,
  "metadata": {
    "colab": {
      "provenance": [],
      "authorship_tag": "ABX9TyMfeHH7hk4sc9Ll1C3G6kGG",
      "include_colab_link": true
    },
    "kernelspec": {
      "name": "python3",
      "display_name": "Python 3"
    },
    "language_info": {
      "name": "python"
    }
  },
  "cells": [
    {
      "cell_type": "markdown",
      "metadata": {
        "id": "view-in-github",
        "colab_type": "text"
      },
      "source": [
        "<a href=\"https://colab.research.google.com/github/NeeravT/NeeravT/blob/main/Sale%20of%20Items.ipynb\" target=\"_parent\"><img src=\"https://colab.research.google.com/assets/colab-badge.svg\" alt=\"Open In Colab\"/></a>"
      ]
    },
    {
      "cell_type": "code",
      "execution_count": null,
      "metadata": {
        "id": "rbnuDNU9TRbX"
      },
      "outputs": [],
      "source": [
        "price = float(input(\"Please enter the price per unit for the item: \"))\n",
        "quantity = int(input(\"Please enter the quantity of the product: \"))\n",
        "\n",
        "\n",
        "sales_tax = 0.0625\n",
        "\n",
        "subtotal = price * quantity\n",
        "\n",
        "total = subtotal + (subtotal * sales_tax)\n",
        "\n",
        "print(\"The total the customer owes is:\", round(total, 2))\n",
        "\n",
        "payment = float(input(\"Please enter the amount given by the customer: \"))\n",
        "\n",
        "change = total - payment\n",
        "\n",
        "print(\"The amount of change you owe the customer is:\", -(round(change, 2)))\n",
        "\n",
        "\n",
        "\n"
      ]
    }
  ]
}