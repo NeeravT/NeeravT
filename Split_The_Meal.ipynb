{
  "nbformat": 4,
  "nbformat_minor": 0,
  "metadata": {
    "colab": {
      "provenance": [],
      "authorship_tag": "ABX9TyOZjCe7QACR03zyitowDBEz",
      "include_colab_link": true
    },
    "kernelspec": {
      "name": "python3",
      "display_name": "Python 3"
    },
    "language_info": {
      "name": "python"
    }
  },
  "cells": [
    {
      "cell_type": "markdown",
      "metadata": {
        "id": "view-in-github",
        "colab_type": "text"
      },
      "source": [
        "<a href=\"https://colab.research.google.com/github/NeeravT/NeeravT/blob/main/Split_The_Meal.ipynb\" target=\"_parent\"><img src=\"https://colab.research.google.com/assets/colab-badge.svg\" alt=\"Open In Colab\"/></a>"
      ]
    },
    {
      "cell_type": "code",
      "execution_count": null,
      "metadata": {
        "id": "pVSotmecare_"
      },
      "outputs": [],
      "source": [
        "meal_total = float(input(\"Please enter the total cost of the meal: \"))\n",
        "people = int(input(\"Please enter the number of people, who will split the tip: \"))\n",
        "sales_tax = 0.0625\n",
        "tips = meal_total * 0.18\n",
        "meal_tax = meal_total * sales_tax\n",
        "\n",
        "total = meal_total + meal_tax + tips\n",
        "split = total/people\n",
        "\n",
        "print(\"Your total is:\", round(total,2))\n",
        "print(\"Each person should pay:\", round(split,2))"
      ]
    }
  ]
}